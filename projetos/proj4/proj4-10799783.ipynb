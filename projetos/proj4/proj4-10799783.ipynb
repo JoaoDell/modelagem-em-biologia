{
 "cells": [
  {
   "cell_type": "markdown",
   "metadata": {},
   "source": [
    "# Projeto 4 - Predador de Ápice\n",
    "João Victor Dell Agli Floriano, 10799783"
   ]
  },
  {
   "cell_type": "markdown",
   "metadata": {},
   "source": [
    "## Objetivos"
   ]
  },
  {
   "cell_type": "markdown",
   "metadata": {},
   "source": [
    "Esse projeto tem como objetivo estudar e reproduzir a imagem 3 do artigo \"A simple theory for the mesopredator release effect: when does an apex predator protect their shared prey from a mesopredator?\" de Gaku Takimoto and Shota Nishijima, publicado na Oikos 2022: e09021."
   ]
  },
  {
   "cell_type": "markdown",
   "metadata": {},
   "source": [
    "O artigo tem como objeto de estudo o efeito de \"liberação do mesopredador\", um efeito que ocorre em um sistema predador-mesopredador-presa. Esse efeito ocorre quando há extinção do \"predador de ápice\", aquele que não possui predador para si, nesse sistema, causando um desequilíbrio, podendo levar ao aumento de mesopredadores e a extinção de suas presas compartilhadas, levando enfim, à extinção do sistema em um efeito cascata.\n",
    "\n",
    "O sistema considerado é um com dinâmica representada abaixo.\n",
    "\n",
    "![](https://onlinelibrary.wiley.com/cms/asset/2bd4d5a7-b10f-4197-9c2e-532ea1a2606f/oik13370-fig-0001-m.jpg)\n",
    "\n"
   ]
  },
  {
   "cell_type": "markdown",
   "metadata": {},
   "source": [
    "## Modelagem"
   ]
  },
  {
   "cell_type": "markdown",
   "metadata": {},
   "source": [
    "De acordo com o artigo, o sistema pode ser modelado da seguinte maneira, abseando-se no sistema logístico:\n",
    "\n",
    "Dinâmica da presa compartilhada: $\\frac{dP}{dt} = r_P (1 - \\frac{P}{K_P}) P - \\alpha _PAP - aMP$\n",
    "\n",
    "Dinâmica do mesopredador : $\\frac{dM}{dt} = r_M (1 - \\frac{M}{K_M}) M - \\alpha _MAM - baPM$\n",
    "\n",
    "Aqui, $P$ é a densidade de população da presa compartilhada, $M$ a densidade do mesopredador, e $A$ a densidade do predador de ápice.Os $K$ são a capacidade de suporte de cada população, $\\alpha_P$ é a porcentagem de ataque per capita do predador de ápice na presa, $\\alpha_M$ é a porcentagem de ataque per capita do predador de ápice ao mesopredador, $r_P$ e $r_M$ são as taxas de crescimento intrínsecas de cada população, $a$ é a taxa de ataque do mesopredador à presa, $b$ é a taxa de conversão de presas capturadas em população do mesopredador."
   ]
  },
  {
   "cell_type": "markdown",
   "metadata": {},
   "source": [
    "Para uma melhor abordagem desse modelo, façamos uma conversão de unidades para \"enxugar\" esse modelo. Primeiro, façamos a seguinte transformação:\n",
    "\n",
    "$p = \\frac{P}{K_P}$\n",
    "\n",
    "$m = \\frac{P}{K_M}$\n",
    "\n",
    "Que transforma as equações em:\n",
    "\n",
    "$\\frac{dp}{dt} = r_P (1 - p) p - \\alpha _PAp - aK_mpm$\n",
    "\n",
    "$\\frac{dm}{dt} = r_M (1 - m) m - \\alpha _MAm - bapmK_P$\n",
    "\n",
    "Segundo, consideremos agora uma escala de tempo diferente, aonde $\\tau = r_Pt$:\n",
    "\n",
    "$\\frac{dp}{d\\tau} = (1 - p) p - \\frac{\\alpha _P}{r_P}Ap - \\frac{aK_m}{r_P}pm$\n",
    "\n",
    "$\\frac{dm}{d\\tau} = \\frac{r_M}{r_P} (1 - m) m - \\frac{\\alpha _M}{r_M}Am - \\frac{baK_P}{r_M}pm$\n",
    "\n",
    "A partir dessa transformação, podemos ainda renomear algumas constantes:\n",
    "\n",
    "* $\\rho = \\frac{r_M}{r_P}$\n",
    "* $c_P = \\frac{\\alpha _P}{r_P}$\n",
    "* $d_P = \\frac{aK_m}{r_P}$\n",
    "* $c_M = \\frac{\\alpha _M}{r_M}$\n",
    "* $d_M = \\frac{baK_P}{r_M}$\n",
    "\n",
    "Que enfim, resulta nas seguintes equações:\n",
    "\n",
    "\n",
    "$\\frac{dp}{d\\tau} = p[(1 - p)  - c_PA - d_Pm]$\n",
    "\n",
    "$\\frac{dm}{d\\tau} = m[\\rho (1 - m)  - c_MA - d_Mp]$\n"
   ]
  },
  {
   "cell_type": "markdown",
   "metadata": {},
   "source": [
    "Com as equações da dinâmica enfim estabelecidas, podemos analisar o comportamento do mesopredador e da presa à procura do efeito descrito anteriormente."
   ]
  },
  {
   "cell_type": "markdown",
   "metadata": {},
   "source": [
    "## Equilíbrio"
   ]
  },
  {
   "cell_type": "markdown",
   "metadata": {},
   "source": [
    "De acordo com o artigo, o comportamento do sistema à procura desse efeito é analisado no equilíbrio, mas especificamente no ponto de coexistência equlibrada entre os dois atores. Analisando as equações acima, isso acontece quando:\n",
    "\n",
    "$\\frac{dp}{d\\tau} = 0$\n",
    "\n",
    "$\\frac{dm}{d\\tau} = 0$\n",
    "\n",
    "Ou seja, quando:\n",
    "\n",
    "$0 = p[(1 - p)  - c_PA - d_Pm]$\n",
    "\n",
    "$0 = m[\\rho (1 - m)  - c_MA - d_Mp]$"
   ]
  },
  {
   "cell_type": "markdown",
   "metadata": {},
   "source": [
    "Nessa situação, há quatro possibilidades:\n",
    "1. $p = 0$, $m = 0$\n",
    "2. $p = 0$, $m \\neq 0$\n",
    "3. $p \\neq 0$, $m = 0$\n",
    "4. $p \\neq 0$, $m \\neq 0$"
   ]
  },
  {
   "cell_type": "markdown",
   "metadata": {},
   "source": [
    "A primeira é uma situação óbvia de solução do problema, visto que quando a densidade populacional dos dois atores é zero, não há dinâmica no problema. Sendo assim, analisemos as outras situações."
   ]
  },
  {
   "cell_type": "markdown",
   "metadata": {},
   "source": [
    "### 2. $p = 0$, $m \\neq 0 $"
   ]
  },
  {
   "cell_type": "markdown",
   "metadata": {},
   "source": [
    "Com $p = 0$ e $m \\neq 0$, temos:"
   ]
  },
  {
   "cell_type": "markdown",
   "metadata": {},
   "source": [
    "$0 = 0[(1 - 0)  - c_PA - d_Pm_1^*]$\n",
    "\n",
    "$0 = m_1^*[\\rho (1 - m_1^*)  - c_MA - d_M0]$\n"
   ]
  },
  {
   "cell_type": "markdown",
   "metadata": {},
   "source": [
    "Que se desenvolve em:"
   ]
  },
  {
   "cell_type": "markdown",
   "metadata": {},
   "source": [
    "$0 = \\rho (1 - m_1^*)  - c_M A$\n",
    "\n",
    "$\\rho m_1^*  = \\rho 1 - c_MA $\n",
    "\n",
    "$ m_1^* = 1 - \\frac{c_MA}{\\rho }$"
   ]
  },
  {
   "cell_type": "markdown",
   "metadata": {},
   "source": [
    "### 3. $p \\neq 0$, $m = 0$"
   ]
  },
  {
   "cell_type": "markdown",
   "metadata": {},
   "source": [
    "Com $p \\neq 0$ e $m = 0$, temos:"
   ]
  },
  {
   "cell_type": "markdown",
   "metadata": {},
   "source": [
    "$0 = p_2^*[(1 - p_2^*)  - c_PA - d_P0]$\n",
    "\n",
    "$0 = 0[\\rho (1 - 0)  - c_MA - d_Mp_2^*]$"
   ]
  },
  {
   "cell_type": "markdown",
   "metadata": {},
   "source": [
    "Que se desenvolve em:"
   ]
  },
  {
   "cell_type": "markdown",
   "metadata": {},
   "source": [
    "$0 = (1 - p_2^*)  - c_PA $\n",
    "\n",
    "$p_2^* = 1  - c_PA $"
   ]
  },
  {
   "cell_type": "markdown",
   "metadata": {},
   "source": [
    "### 4. $p \\neq 0$, $m \\neq 0$"
   ]
  },
  {
   "cell_type": "markdown",
   "metadata": {},
   "source": [
    "Como dito anteriormente, a situação de interesse é o equilíbrio de coexistência entre os dois atores, ou seja, a situação 4.\n",
    "\n",
    "$0 = p_3^*[(1 - p_3^*)  - c_PA - d_Pm_3^*]$\n",
    "\n",
    "$0 = 1 - p_3^* - c_P A -d_P m_3^*$\n",
    "\n",
    "$p_3^* =  1 - c_P A  - d_P m_3^* $\n",
    "\n",
    "\n",
    "\n",
    "\n",
    "$0 = m_3^*[\\rho (1 - m_3^*)  - c_MA - d_Mp_3^*]$\n",
    "\n",
    "$0 =\\rho - \\rho m_3^* - c_M A - d_M p_3^*$\n",
    "\n",
    "$0 = \\rho - \\rho m_3^* - c_M A - d_M (1 - c_P A  - d_P m_3^*)$\n",
    "\n",
    "$0 = \\rho - \\rho m_3^* - c_M A + d_M c_P A + d_M d_P m_3^* - d_M$\n",
    "\n",
    "$0 = \\rho + m_3^*(d_M d_P  - \\rho) + ( d_M c_P - c_M ) A - d_M$\n",
    "\n",
    "$m_3^*(d_M d_P  - \\rho) = -\\rho - ( d_M c_P - c_M ) A + d_M$\n",
    "\n",
    "Portanto:\n",
    "\n",
    "$m_3^* = \\frac{-\\rho - ( d_M c_P - c_M ) A + d_M}{(d_M d_P  - \\rho)}$\n",
    "\n",
    "$p_3^* =  1 - c_P A  - d_P \\frac{-\\rho - ( d_M c_P - c_M ) A + d_M}{(d_M d_P  - \\rho)} $\n"
   ]
  },
  {
   "cell_type": "markdown",
   "metadata": {},
   "source": [
    "Existem, então, quatro situações de equilíbrio:\n",
    "\n",
    "1. $p_0^* = 0$, $m_0^* = 0$\n",
    "2. $p_1^* = 0$, $ m_1^* = 1 - \\frac{c_MA}{\\rho }$\n",
    "3. $p_2^* = 1  - c_PA $, $m_2^* = 0$\n",
    "4. $p_3^* =  1 - c_P A  - d_P \\frac{-\\rho - ( d_M c_P - c_M ) A + d_M}{(d_M d_P  - \\rho)} $, $m_3^* = \\frac{-\\rho - ( d_M c_P - c_M ) A + d_M}{(d_M d_P  - \\rho)}$\n"
   ]
  },
  {
   "cell_type": "markdown",
   "metadata": {},
   "source": [
    "## Estabilidade [incompleto]"
   ]
  },
  {
   "cell_type": "markdown",
   "metadata": {},
   "source": [
    "Estudar os pontos fixos não basta, mas também é importante verificar suas condições de estabilidade. Para verificar sua estabilidade, devemos analisar o seu jacobiano, procurando por seus autovalores e autovetores:\n",
    "\n",
    "$$J = \\begin{bmatrix}\n",
    "      \\frac{\\partial f_1}{\\partial p} & \\frac{\\partial f_1}{\\partial m} \\\\ \n",
    "      \\frac{\\partial f_2}{\\partial p} & \\frac{\\partial f_2}{\\partial m}\n",
    "      \\end{bmatrix}$$\n",
    "\n"
   ]
  },
  {
   "cell_type": "markdown",
   "metadata": {},
   "source": [
    "$$J = \\begin{bmatrix}\n",
    "      1 - 2p  - c_PA - d_Pm  &  - d_P\\\\ \n",
    "      - d_M & \\rho (1 - 2m)  - c_MA - d_Mp \n",
    "      \\end{bmatrix}$$\n",
    "\n"
   ]
  },
  {
   "cell_type": "markdown",
   "metadata": {},
   "source": [
    "### Caso 1 \n",
    "\n",
    "$$eig(J) = eig(\\begin{bmatrix}\n",
    "      1 - 0  - c_PA - d_P0  &  - d_P\\\\ \n",
    "      - d_M & \\rho (1 - 20)  - c_MA - d_M0 \n",
    "      \\end{bmatrix})$$\n",
    "\n",
    "$$eig(J) = eig(\\begin{bmatrix}\n",
    "      1 - c_PA  &  - d_P\\\\ \n",
    "      - d_M & \\rho - c_MA \n",
    "      \\end{bmatrix})$$      \n",
    "\n",
    "$$(1 - c_PA - \\lambda)(\\rho - c_MA - \\lambda) - d_P d_M = 0$$\n",
    "$$(1 - c_PA - \\lambda)(\\rho - c_MA - \\lambda) - d_P d_M = 0$$\n",
    "$$\\lambda^2 + (c_MA -1 -\\rho + c_PA)\\lambda + (1 - c_PA)(\\rho - c_MA) - d_P d_M = 0$$\n",
    "\n",
    "$$\\lambda = \\frac{-(c_MA -1 -\\rho + c_PA) \\pm \\sqrt{(c_MA -1 -\\rho + c_PA)^2 - 4(1 - c_PA)(\\rho - c_MA) - d_P d_M}}{2}$$"
   ]
  },
  {
   "cell_type": "markdown",
   "metadata": {},
   "source": [
    "## Implementação"
   ]
  },
  {
   "cell_type": "markdown",
   "metadata": {},
   "source": [
    "Implementemos então, essas situações, para quatro casos:\n",
    "\n",
    "1. $\\alpha_p = 0.5$, $K_m = 0.75$\n",
    "2. $\\alpha_p = 0.5$, $K_m = 0.25$\n",
    "3. $\\alpha_p = 2.0$, $K_m = 0.5$\n",
    "4. $\\alpha_p = 0.5$, $K_m = 2.0$\n",
    "\n",
    "Os demais parâmetros são:\n",
    "\n",
    "* $r_m = 1.0$\n",
    "* $r_p = 1.0$\n",
    "* $a = 1.0$\n",
    "* $b = 0.1$\n",
    "* $\\alpha_m = 1.0$\n",
    "* $K_p = 2.0$\n"
   ]
  },
  {
   "cell_type": "code",
   "execution_count": 67,
   "metadata": {},
   "outputs": [],
   "source": [
    "import matplotlib.pyplot as plt\n",
    "import numpy as np"
   ]
  },
  {
   "cell_type": "code",
   "execution_count": 68,
   "metadata": {},
   "outputs": [],
   "source": [
    "def m_func(rho, cm, A, dm, dp, cp):\n",
    "    \"\"\"Função de cálculo do valor de m no equilíbrio de coexistência.\"\"\"\n",
    "    return (-rho - (dm*cp - cm)*A + dm)/(dm*dp - rho)\n",
    "\n",
    "def p_func(rho, cm, A, dm, dp, cp):\n",
    "    \"\"\"Função de cálculo do valor de p no equilíbrio de coexistência.\"\"\"\n",
    "    return 1 - cp*A - dp*(-rho - (dm*cp - cm)*A + dm)/(dm*dp - rho)\n",
    "    "
   ]
  },
  {
   "cell_type": "code",
   "execution_count": 72,
   "metadata": {},
   "outputs": [],
   "source": [
    "# Paramêtros Crus\n",
    "rm = 1.0\n",
    "rp = 1.0\n",
    "alfa_p = np.array([0.5, 0.5, 2.0, 0.5])\n",
    "a = 1.0\n",
    "b = 0.1\n",
    "Km = np.array([0.75, 0.25, 0.5, 2])\n",
    "alfa_m = 1.0\n",
    "Kp = 2.0\n",
    "\n",
    "# Parâmetros Derivados\n",
    "rho = rm/rp\n",
    "cp = alfa_p/rp\n",
    "dp = a*Km/rp\n",
    "cm = alfa_m/rm\n",
    "dm = b*a*Kp/rm"
   ]
  },
  {
   "cell_type": "code",
   "execution_count": 89,
   "metadata": {},
   "outputs": [],
   "source": [
    "def iterator(rho, cm, A, dm, dp, cp):\n",
    "    \"\"\"Itera a simulação.\"\"\"\n",
    "    p = np.zeros(A.shape)\n",
    "    m = np.zeros(A.shape)\n",
    "\n",
    "    # Inicialização dos valores\n",
    "    p[0] = p_func(rho, cm, A[0], dm, dp, cp)\n",
    "    m[0] = m_func(rho, cm, A[0], dm, dp, cp)\n",
    "    \n",
    "    # Cálculo para todo A\n",
    "    for i in range(1, A.shape[0]):\n",
    "\n",
    "        p_ = 0\n",
    "        m_ = 0\n",
    "\n",
    "        if m[i - 1] <= 0.0:\n",
    "            # Caso o mesopredador se extingua, \n",
    "            # o equilíbrio agora será com apenas p, \n",
    "            # obedecendo p_2*\n",
    "            p_ = (1 - cp*A[i])\n",
    "        else:\n",
    "            # Se não, obedece p_3* e m_3*\n",
    "            p_ = p_func(rho, cm, A[i], dm, dp, cp)\n",
    "            \n",
    "\n",
    "        if p[i - 1] <= 0.0:\n",
    "            # Caso a presa se extingua, \n",
    "            # o equilíbrio agora será com apenas m, \n",
    "            # obedecendo m_1*\n",
    "            m_ = (1 - (cm/rho)*A[i])\n",
    "        else:\n",
    "            # Se não, obedece p_3* e m_3*\n",
    "            m_ = m_func(rho, cm, A[i], dm, dp, cp)\n",
    "\n",
    "        # Endereçando população negativa e \n",
    "        # atualizando os valores de p e m\n",
    "        p[i] = p_ if p_ >= 0.0 else 0.0\n",
    "        m[i] = m_ if m_ >= 0.0 else 0.0\n",
    "\n",
    "    return p, m\n",
    "\n",
    "    "
   ]
  },
  {
   "cell_type": "code",
   "execution_count": 102,
   "metadata": {},
   "outputs": [
    {
     "data": {
      "text/plain": [
       "[<matplotlib.lines.Line2D at 0x1df5ef75fc0>]"
      ]
     },
     "execution_count": 102,
     "metadata": {},
     "output_type": "execute_result"
    },
    {
     "data": {
      "image/png": "[encoded data removed]",
      "text/plain": [
       "<Figure size 1000x500 with 8 Axes>"
      ]
     },
     "metadata": {},
     "output_type": "display_data"
    }
   ],
   "source": [
    "A = np.arange(0, 3, 0.01)\n",
    "\n",
    "p0, m0 = iterator(rho, cm, A, dm, dp[0], cp[0])\n",
    "p1, m1 = iterator(rho, cm, A, dm, dp[1], cp[1])\n",
    "p2, m2 = iterator(rho, cm, A, dm, dp[2], cp[2])\n",
    "p3, m3 = iterator(rho, cm, A, dm, dp[3], cp[3])\n",
    "\n",
    "plt.figure(figsize = (10, 5))\n",
    "plt.subplot(241)\n",
    "plt.ylabel(\"p\")\n",
    "plt.xlim(0.0, 3.0)\n",
    "plt.ylim(0.0, 1.0)\n",
    "plt.plot(A, p0)\n",
    "\n",
    "plt.subplot(245)\n",
    "plt.xlabel(\"A\")\n",
    "plt.ylabel(\"m\")\n",
    "plt.xlim(0.0, 3.0)\n",
    "plt.ylim(0.0, 1.0)\n",
    "plt.plot(A, m0)\n",
    "\n",
    "plt.subplot(242)\n",
    "plt.xlim(0.0, 3.0)\n",
    "plt.ylim(0.0, 1.0)\n",
    "plt.plot(A, p1)\n",
    "\n",
    "plt.subplot(246)\n",
    "plt.xlabel(\"A\")\n",
    "plt.xlim(0.0, 3.0)\n",
    "plt.ylim(0.0, 1.0)\n",
    "plt.plot(A, m1)\n",
    "\n",
    "plt.subplot(243)\n",
    "plt.xlim(0.0, 3.0)\n",
    "plt.ylim(0.0, 1.0)\n",
    "plt.plot(A, p2)\n",
    "\n",
    "plt.subplot(247)\n",
    "plt.xlabel(\"A\")\n",
    "plt.xlim(0.0, 3.0)\n",
    "plt.ylim(0.0, 1.0)\n",
    "plt.plot(A, m2)\n",
    "\n",
    "plt.subplot(244)\n",
    "plt.xlim(0.0, 3.0)\n",
    "plt.ylim(0.0, 1.0)\n",
    "plt.plot(A, p3)\n",
    "\n",
    "plt.subplot(248)\n",
    "plt.xlabel(\"A\")\n",
    "plt.xlim(0.0, 3.0)\n",
    "plt.ylim(0.0, 1.0)\n",
    "plt.plot(A, m3)\n",
    "\n"
   ]
  }
 ],
 "metadata": {
  "kernelspec": {
   "display_name": "bio-model",
   "language": "python",
   "name": "python3"
  },
  "language_info": {
   "codemirror_mode": {
    "name": "ipython",
    "version": 3
   },
   "file_extension": ".py",
   "mimetype": "text/x-python",
   "name": "python",
   "nbconvert_exporter": "python",
   "pygments_lexer": "ipython3",
   "version": "3.10.12"
  },
  "orig_nbformat": 4
 },
 "nbformat": 4,
 "nbformat_minor": 2
}
